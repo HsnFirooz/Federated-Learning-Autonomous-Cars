{
 "cells": [
  {
   "cell_type": "code",
   "execution_count": 67,
   "id": "b84d1547",
   "metadata": {},
   "outputs": [
    {
     "name": "stdout",
     "output_type": "stream",
     "text": [
      "2.8.0-dev20211217\n"
     ]
    }
   ],
   "source": [
    "from IPython.display import Image\n",
    "import matplotlib.pyplot as plt\n",
    "import numpy as np\n",
    "import glob\n",
    "import pandas\n",
    "import cv2 as cv\n",
    "from numpy import expand_dims\n",
    "from keras.preprocessing.image import load_img, img_to_array, ImageDataGenerator\n",
    "from matplotlib import pyplot\n",
    "\n",
    "from sklearn.utils import shuffle\n",
    "from sklearn.metrics import confusion_matrix, f1_score, accuracy_score\n",
    "\n",
    "import tensorflow\n",
    "print(tensorflow.__version__)\n",
    "from tensorflow import keras\n",
    "from tensorflow.keras.models import Model, Sequential\n",
    "from tensorflow.keras.layers import Dense, Conv2D, Activation, GlobalAveragePooling2D, MaxPooling2D, Flatten\n",
    "from tensorflow.keras.preprocessing import image\n",
    "from tensorflow.keras.callbacks import EarlyStopping\n",
    "from tensorflow.keras.applications.vgg16 import VGG16\n",
    "from tensorflow.keras.applications.vgg16 import preprocess_input"
   ]
  },
  {
   "cell_type": "code",
   "execution_count": 46,
   "id": "77ba404c",
   "metadata": {},
   "outputs": [
    {
     "name": "stdout",
     "output_type": "stream",
     "text": [
      "Speed Limit 30\n",
      "Speed Limit 50\n",
      "41\n",
      "41\n",
      "(41, 224, 224, 3)\n"
     ]
    }
   ],
   "source": [
    "# WARNING: do not run this cell now. It is very time consuming. Run the next one and come back here if you have time later.\n",
    "data30 = '/Users/hbp/Documents/GitHub.nosync/TER2021-074/Documentation/30-PANEL-PR/'\n",
    "data50 = '/Users/hbp/Documents/GitHub.nosync/TER2021-074/Documentation/50-PANEL-PR/'\n",
    "classes = ['Speed Limit 30', 'Speed Limit 50']\n",
    "\n",
    "nbClasses = 2\n",
    "classLabel = 0\n",
    "\n",
    "xTrain = np.empty(shape=(0,224,224,3))\n",
    "yTrain = []\n",
    "\n",
    "for cl in classes:\n",
    "    print(cl)\n",
    "    if(cl == 'Speed Limit 30'):\n",
    "        listImages = glob.glob(data30+'/*')\n",
    "    else:\n",
    "        listImages = glob.glob(data50+'/*')\n",
    "    yTrain += [classLabel]*len(listImages)\n",
    "    for pathImg in listImages:\n",
    "        img = image.load_img(pathImg, target_size=(224, 224))\n",
    "        im = image.img_to_array(img)\n",
    "        normalizedImg = np.zeros((224, 224))\n",
    "        im = cv.normalize(im,  normalizedImg, 0, 255, cv.NORM_MINMAX)\n",
    "        im = np.expand_dims(im, axis=0)\n",
    "        im = preprocess_input(im)\n",
    "        xTrain = np.vstack([xTrain, im])\n",
    "    classLabel += 1\n",
    "\n",
    "print(len(xTrain))\n",
    "print(len(yTrain))\n",
    "print(xTrain.shape)\n",
    "yTrain = keras.utils.to_categorical(yTrain, nbClasses)"
   ]
  },
  {
   "cell_type": "code",
   "execution_count": 47,
   "id": "77499117",
   "metadata": {},
   "outputs": [],
   "source": [
    "xTrain, yTrain = shuffle(xTrain, yTrain)\n",
    "amountOfTrain = round(len(xTrain) * 0.9)\n",
    "\n",
    "xTest = xTrain[amountOfTrain:]\n",
    "yTest = yTrain[amountOfTrain:]\n",
    "\n",
    "xTrain = xTrain[:amountOfTrain]\n",
    "yTrain = yTrain[:amountOfTrain]"
   ]
  },
  {
   "cell_type": "code",
   "execution_count": 48,
   "id": "67a81bb7",
   "metadata": {},
   "outputs": [],
   "source": [
    "model = Sequential()\n",
    "model.add(Conv2D(32,(3,3),activation='relu'))\n",
    "model.add(MaxPooling2D(pool_size=(2, 2),strides=(1,1), padding='valid'))\n",
    "model.add(Flatten())\n",
    "model.add(Dense(nbClasses, activation='softmax'))\n",
    "\n",
    "model.compile(optimizer='rmsprop',loss='categorical_crossentropy', metrics=['accuracy'])"
   ]
  },
  {
   "cell_type": "code",
   "execution_count": 49,
   "id": "bc11e7a6",
   "metadata": {},
   "outputs": [
    {
     "name": "stdout",
     "output_type": "stream",
     "text": [
      "Epoch 1/10\n",
      "1/1 [==============================] - 1s 1s/step - loss: 15.7844 - accuracy: 0.3784\n",
      "Epoch 2/10\n",
      "1/1 [==============================] - 1s 885ms/step - loss: 51467.4258 - accuracy: 0.4865\n",
      "Epoch 3/10\n",
      "1/1 [==============================] - 1s 1s/step - loss: 1461.0944 - accuracy: 0.8378\n",
      "Epoch 4/10\n",
      "1/1 [==============================] - 1s 848ms/step - loss: 2364.2329 - accuracy: 0.6216\n",
      "Epoch 5/10\n",
      "1/1 [==============================] - 1s 862ms/step - loss: 9971.4648 - accuracy: 0.5135\n",
      "Epoch 6/10\n",
      "1/1 [==============================] - 1s 810ms/step - loss: 2673.5459 - accuracy: 0.6757\n",
      "Epoch 7/10\n",
      "1/1 [==============================] - 1s 854ms/step - loss: 1465.0061 - accuracy: 0.8378\n",
      "Epoch 8/10\n",
      "1/1 [==============================] - 1s 832ms/step - loss: 0.0000e+00 - accuracy: 1.0000\n",
      "Epoch 9/10\n",
      "1/1 [==============================] - 1s 859ms/step - loss: 0.0000e+00 - accuracy: 1.0000\n",
      "Epoch 10/10\n",
      "1/1 [==============================] - 1s 924ms/step - loss: 0.0000e+00 - accuracy: 1.0000\n"
     ]
    },
    {
     "data": {
      "text/plain": [
       "<keras.callbacks.History at 0x7fd73f656c10>"
      ]
     },
     "execution_count": 49,
     "metadata": {},
     "output_type": "execute_result"
    }
   ],
   "source": [
    "model.fit(xTrain, yTrain, epochs=10, batch_size=128)"
   ]
  },
  {
   "cell_type": "code",
   "execution_count": 50,
   "id": "09fe3cff",
   "metadata": {},
   "outputs": [
    {
     "name": "stdout",
     "output_type": "stream",
     "text": [
      "Model: \"sequential_2\"\n",
      "_________________________________________________________________\n",
      " Layer (type)                Output Shape              Param #   \n",
      "=================================================================\n",
      " conv2d_2 (Conv2D)           (None, 222, 222, 32)      896       \n",
      "                                                                 \n",
      " max_pooling2d_2 (MaxPooling  (None, 221, 221, 32)     0         \n",
      " 2D)                                                             \n",
      "                                                                 \n",
      " flatten_2 (Flatten)         (None, 1562912)           0         \n",
      "                                                                 \n",
      " dense_2 (Dense)             (None, 2)                 3125826   \n",
      "                                                                 \n",
      "=================================================================\n",
      "Total params: 3,126,722\n",
      "Trainable params: 3,126,722\n",
      "Non-trainable params: 0\n",
      "_________________________________________________________________\n"
     ]
    }
   ],
   "source": [
    "model.summary()"
   ]
  },
  {
   "cell_type": "code",
   "execution_count": 51,
   "id": "9cd714e1",
   "metadata": {},
   "outputs": [
    {
     "name": "stdout",
     "output_type": "stream",
     "text": [
      "[[1. 0.]\n",
      " [0. 1.]\n",
      " [0. 1.]\n",
      " [1. 0.]]\n",
      "[[0. 1.]\n",
      " [1. 0.]\n",
      " [1. 0.]\n",
      " [1. 0.]]\n"
     ]
    },
    {
     "ename": "ValueError",
     "evalue": "multilabel-indicator is not supported",
     "output_type": "error",
     "traceback": [
      "\u001b[0;31m---------------------------------------------------------------------------\u001b[0m",
      "\u001b[0;31mValueError\u001b[0m                                Traceback (most recent call last)",
      "\u001b[0;32m<ipython-input-51-91ca7aea0e44>\u001b[0m in \u001b[0;36m<module>\u001b[0;34m\u001b[0m\n\u001b[1;32m      3\u001b[0m \u001b[0mprint\u001b[0m\u001b[0;34m(\u001b[0m\u001b[0myPredictedTest\u001b[0m\u001b[0;34m)\u001b[0m\u001b[0;34m\u001b[0m\u001b[0;34m\u001b[0m\u001b[0m\n\u001b[1;32m      4\u001b[0m \u001b[0mprint\u001b[0m\u001b[0;34m(\u001b[0m\u001b[0myTest\u001b[0m\u001b[0;34m)\u001b[0m\u001b[0;34m\u001b[0m\u001b[0;34m\u001b[0m\u001b[0m\n\u001b[0;32m----> 5\u001b[0;31m \u001b[0mconfusion_matrix\u001b[0m\u001b[0;34m(\u001b[0m\u001b[0myTest\u001b[0m\u001b[0;34m,\u001b[0m \u001b[0myPredictedTest\u001b[0m\u001b[0;34m)\u001b[0m\u001b[0;34m\u001b[0m\u001b[0;34m\u001b[0m\u001b[0m\n\u001b[0m",
      "\u001b[0;32m~/opt/anaconda3/lib/python3.8/site-packages/sklearn/utils/validation.py\u001b[0m in \u001b[0;36minner_f\u001b[0;34m(*args, **kwargs)\u001b[0m\n\u001b[1;32m     61\u001b[0m             \u001b[0mextra_args\u001b[0m \u001b[0;34m=\u001b[0m \u001b[0mlen\u001b[0m\u001b[0;34m(\u001b[0m\u001b[0margs\u001b[0m\u001b[0;34m)\u001b[0m \u001b[0;34m-\u001b[0m \u001b[0mlen\u001b[0m\u001b[0;34m(\u001b[0m\u001b[0mall_args\u001b[0m\u001b[0;34m)\u001b[0m\u001b[0;34m\u001b[0m\u001b[0;34m\u001b[0m\u001b[0m\n\u001b[1;32m     62\u001b[0m             \u001b[0;32mif\u001b[0m \u001b[0mextra_args\u001b[0m \u001b[0;34m<=\u001b[0m \u001b[0;36m0\u001b[0m\u001b[0;34m:\u001b[0m\u001b[0;34m\u001b[0m\u001b[0;34m\u001b[0m\u001b[0m\n\u001b[0;32m---> 63\u001b[0;31m                 \u001b[0;32mreturn\u001b[0m \u001b[0mf\u001b[0m\u001b[0;34m(\u001b[0m\u001b[0;34m*\u001b[0m\u001b[0margs\u001b[0m\u001b[0;34m,\u001b[0m \u001b[0;34m**\u001b[0m\u001b[0mkwargs\u001b[0m\u001b[0;34m)\u001b[0m\u001b[0;34m\u001b[0m\u001b[0;34m\u001b[0m\u001b[0m\n\u001b[0m\u001b[1;32m     64\u001b[0m \u001b[0;34m\u001b[0m\u001b[0m\n\u001b[1;32m     65\u001b[0m             \u001b[0;31m# extra_args > 0\u001b[0m\u001b[0;34m\u001b[0m\u001b[0;34m\u001b[0m\u001b[0;34m\u001b[0m\u001b[0m\n",
      "\u001b[0;32m~/opt/anaconda3/lib/python3.8/site-packages/sklearn/metrics/_classification.py\u001b[0m in \u001b[0;36mconfusion_matrix\u001b[0;34m(y_true, y_pred, labels, sample_weight, normalize)\u001b[0m\n\u001b[1;32m    296\u001b[0m     \u001b[0my_type\u001b[0m\u001b[0;34m,\u001b[0m \u001b[0my_true\u001b[0m\u001b[0;34m,\u001b[0m \u001b[0my_pred\u001b[0m \u001b[0;34m=\u001b[0m \u001b[0m_check_targets\u001b[0m\u001b[0;34m(\u001b[0m\u001b[0my_true\u001b[0m\u001b[0;34m,\u001b[0m \u001b[0my_pred\u001b[0m\u001b[0;34m)\u001b[0m\u001b[0;34m\u001b[0m\u001b[0;34m\u001b[0m\u001b[0m\n\u001b[1;32m    297\u001b[0m     \u001b[0;32mif\u001b[0m \u001b[0my_type\u001b[0m \u001b[0;32mnot\u001b[0m \u001b[0;32min\u001b[0m \u001b[0;34m(\u001b[0m\u001b[0;34m\"binary\"\u001b[0m\u001b[0;34m,\u001b[0m \u001b[0;34m\"multiclass\"\u001b[0m\u001b[0;34m)\u001b[0m\u001b[0;34m:\u001b[0m\u001b[0;34m\u001b[0m\u001b[0;34m\u001b[0m\u001b[0m\n\u001b[0;32m--> 298\u001b[0;31m         \u001b[0;32mraise\u001b[0m \u001b[0mValueError\u001b[0m\u001b[0;34m(\u001b[0m\u001b[0;34m\"%s is not supported\"\u001b[0m \u001b[0;34m%\u001b[0m \u001b[0my_type\u001b[0m\u001b[0;34m)\u001b[0m\u001b[0;34m\u001b[0m\u001b[0;34m\u001b[0m\u001b[0m\n\u001b[0m\u001b[1;32m    299\u001b[0m \u001b[0;34m\u001b[0m\u001b[0m\n\u001b[1;32m    300\u001b[0m     \u001b[0;32mif\u001b[0m \u001b[0mlabels\u001b[0m \u001b[0;32mis\u001b[0m \u001b[0;32mNone\u001b[0m\u001b[0;34m:\u001b[0m\u001b[0;34m\u001b[0m\u001b[0;34m\u001b[0m\u001b[0m\n",
      "\u001b[0;31mValueError\u001b[0m: multilabel-indicator is not supported"
     ]
    }
   ],
   "source": [
    "# Testing\n",
    "yPredictedTest = model.predict(xTest)\n",
    "print(yPredictedTest)\n",
    "print(yTest)\n",
    "\n",
    "confusion_matrix(yTest.argmax(axis=1), yPredictedTest.argmax(axis=1))"
   ]
  },
  {
   "cell_type": "markdown",
   "id": "c5f8c36c",
   "metadata": {},
   "source": [
    "## With data augmentation"
   ]
  },
  {
   "cell_type": "code",
   "execution_count": 69,
   "id": "2e66ede3",
   "metadata": {},
   "outputs": [
    {
     "name": "stdout",
     "output_type": "stream",
     "text": [
      "Speed Limit 30\n",
      "Speed Limit 50\n",
      "451\n",
      "451\n",
      "(451, 224, 224, 3)\n"
     ]
    }
   ],
   "source": [
    "# WARNING: do not run this cell now. It is very time consuming. Run the next one and come back here if you have time later.\n",
    "data30 = '/Users/hbp/Documents/GitHub.nosync/TER2021-074/Documentation/30-PANEL-PR/'\n",
    "data50 = '/Users/hbp/Documents/GitHub.nosync/TER2021-074/Documentation/50-PANEL-PR/'\n",
    "classes = ['Speed Limit 30', 'Speed Limit 50']\n",
    "\n",
    "nbClasses = 2\n",
    "classLabel = 0\n",
    "nbAugmented = 10\n",
    "\n",
    "xTrain = np.empty(shape=(0, 224, 224, 3))\n",
    "yTrain = []\n",
    "\n",
    "for cl in classes:\n",
    "    print(cl)\n",
    "    \n",
    "    if(cl == 'Speed Limit 30'):\n",
    "        listImages = glob.glob(data30+'/*')\n",
    "    else:\n",
    "        listImages = glob.glob(data50+'/*')\n",
    "        \n",
    "    yTrain += [classLabel]*len(listImages)*(nbAugmented + 1)\n",
    "    \n",
    "    for pathImg in listImages:\n",
    "        img = image.load_img(pathImg, target_size=(224, 224))\n",
    "        im = image.img_to_array(img)\n",
    "        normalizedImg = np.zeros((224, 224))\n",
    "        im = cv.normalize(im,  normalizedImg, 0, 255, cv.NORM_MINMAX)\n",
    "        im = np.expand_dims(im, axis=0)\n",
    "        im = preprocess_input(im)\n",
    "        xTrain = np.vstack([xTrain, im]) #Adding normal image\n",
    "        datagen = ImageDataGenerator(rotation_range=90, zoom_range=[0.5,1.0])\n",
    "        it = datagen.flow(im, batch_size=1)\n",
    "        for new in range(nbAugmented):\n",
    "            batch = it.next()\n",
    "            im = np.expand_dims(batch[0], axis=0)\n",
    "            xTrain = np.vstack([xTrain, im]) #Adding transformed image\n",
    "    \n",
    "    classLabel += 1\n",
    "\n",
    "    \n",
    "print(len(xTrain))\n",
    "print(len(yTrain))\n",
    "print(xTrain.shape)\n",
    "yTrain = keras.utils.to_categorical(yTrain, nbClasses)"
   ]
  },
  {
   "cell_type": "code",
   "execution_count": 70,
   "id": "0aa12386",
   "metadata": {},
   "outputs": [
    {
     "name": "stderr",
     "output_type": "stream",
     "text": [
      "Clipping input data to the valid range for imshow with RGB data ([0..1] for floats or [0..255] for integers).\n"
     ]
    },
    {
     "data": {
      "image/png": "[encoded data removed]",
      "text/plain": [
       "<Figure size 432x288 with 1 Axes>"
      ]
     },
     "metadata": {
      "needs_background": "light"
     },
     "output_type": "display_data"
    },
    {
     "name": "stderr",
     "output_type": "stream",
     "text": [
      "Clipping input data to the valid range for imshow with RGB data ([0..1] for floats or [0..255] for integers).\n"
     ]
    },
    {
     "name": "stdout",
     "output_type": "stream",
     "text": [
      "[0. 1.]\n"
     ]
    },
    {
     "data": {
      "image/png": "[encoded data removed]",
      "text/plain": [
       "<Figure size 432x288 with 1 Axes>"
      ]
     },
     "metadata": {
      "needs_background": "light"
     },
     "output_type": "display_data"
    },
    {
     "name": "stderr",
     "output_type": "stream",
     "text": [
      "Clipping input data to the valid range for imshow with RGB data ([0..1] for floats or [0..255] for integers).\n"
     ]
    },
    {
     "name": "stdout",
     "output_type": "stream",
     "text": [
      "[1. 0.]\n"
     ]
    },
    {
     "data": {
      "image/png": "[encoded data removed]",
      "text/plain": [
       "<Figure size 432x288 with 1 Axes>"
      ]
     },
     "metadata": {
      "needs_background": "light"
     },
     "output_type": "display_data"
    },
    {
     "name": "stdout",
     "output_type": "stream",
     "text": [
      "[1. 0.]\n"
     ]
    }
   ],
   "source": [
    "xTrain, yTrain = shuffle(xTrain, yTrain)\n",
    "amountOfTrain = round(len(xTrain) * 0.7)\n",
    "\n",
    "xTest = xTrain[amountOfTrain:]\n",
    "yTest = yTrain[amountOfTrain:]\n",
    "\n",
    "xTrain = xTrain[:amountOfTrain]\n",
    "yTrain = yTrain[:amountOfTrain]\n",
    "\n",
    "show_image = np.array(xTrain[0])\n",
    "plt.imshow(show_image)\n",
    "plt.show() # Showing first image of the dataset\n",
    "print(yTrain[0])\n",
    "\n",
    "show_image = np.array(xTrain[2])\n",
    "plt.imshow(show_image)\n",
    "plt.show() # Showing first image of the dataset\n",
    "print(yTrain[2])\n",
    "\n",
    "show_image = np.array(xTrain[len(xTrain)-1])\n",
    "plt.imshow(show_image)\n",
    "plt.show() # Showing last image of the dataset\n",
    "print(yTrain[len(xTrain)-1])"
   ]
  },
  {
   "cell_type": "code",
   "execution_count": 71,
   "id": "38d592a1",
   "metadata": {},
   "outputs": [],
   "source": [
    "model = Sequential()\n",
    "model.add(Conv2D(32,(3,3),activation='relu'))\n",
    "model.add(MaxPooling2D(pool_size=(2, 2),strides=(1,1), padding='valid'))\n",
    "model.add(Flatten())\n",
    "model.add(Dense(nbClasses, activation='softmax'))\n",
    "\n",
    "model.compile(optimizer='rmsprop',loss='categorical_crossentropy', metrics=['accuracy'])"
   ]
  },
  {
   "cell_type": "code",
   "execution_count": 72,
   "id": "eb20e8d8",
   "metadata": {},
   "outputs": [
    {
     "name": "stdout",
     "output_type": "stream",
     "text": [
      "Epoch 1/30\n",
      "3/3 [==============================] - 11s 2s/step - loss: 21938.7617 - accuracy: 0.5411\n",
      "Epoch 2/30\n",
      "3/3 [==============================] - 6s 2s/step - loss: 10642.8154 - accuracy: 0.5665\n",
      "Epoch 3/30\n",
      "3/3 [==============================] - 6s 2s/step - loss: 5977.0752 - accuracy: 0.5759\n",
      "Epoch 4/30\n",
      "3/3 [==============================] - 6s 2s/step - loss: 4643.0840 - accuracy: 0.5506\n",
      "Epoch 5/30\n",
      "3/3 [==============================] - 6s 2s/step - loss: 2804.7422 - accuracy: 0.6044\n",
      "Epoch 6/30\n",
      "3/3 [==============================] - 5s 2s/step - loss: 3331.0657 - accuracy: 0.5380\n",
      "Epoch 7/30\n",
      "3/3 [==============================] - 6s 2s/step - loss: 1481.2930 - accuracy: 0.6076\n",
      "Epoch 8/30\n",
      "3/3 [==============================] - 6s 2s/step - loss: 2739.6370 - accuracy: 0.5222\n",
      "Epoch 9/30\n",
      "3/3 [==============================] - 6s 2s/step - loss: 302.2166 - accuracy: 0.8481\n",
      "Epoch 10/30\n",
      "3/3 [==============================] - 5s 2s/step - loss: 54.1817 - accuracy: 0.9304\n",
      "Epoch 11/30\n",
      "3/3 [==============================] - 5s 2s/step - loss: 651.1508 - accuracy: 0.7437\n",
      "Epoch 12/30\n",
      "3/3 [==============================] - 6s 2s/step - loss: 2220.8101 - accuracy: 0.5728\n",
      "Epoch 13/30\n",
      "3/3 [==============================] - 7s 2s/step - loss: 219.8670 - accuracy: 0.8576\n",
      "Epoch 14/30\n",
      "3/3 [==============================] - 6s 2s/step - loss: 1.8098 - accuracy: 0.9905\n",
      "Epoch 15/30\n",
      "3/3 [==============================] - 6s 2s/step - loss: 2.0421 - accuracy: 0.9905\n",
      "Epoch 16/30\n",
      "3/3 [==============================] - 7s 2s/step - loss: 0.0000e+00 - accuracy: 1.0000\n",
      "Epoch 17/30\n",
      "3/3 [==============================] - 7s 2s/step - loss: 0.0000e+00 - accuracy: 1.0000\n",
      "Epoch 18/30\n",
      "3/3 [==============================] - 6s 2s/step - loss: 0.0000e+00 - accuracy: 1.0000\n",
      "Epoch 19/30\n",
      "3/3 [==============================] - 5s 2s/step - loss: 0.0000e+00 - accuracy: 1.0000\n",
      "Epoch 20/30\n",
      "3/3 [==============================] - 6s 2s/step - loss: 0.0000e+00 - accuracy: 1.0000\n",
      "Epoch 21/30\n",
      "3/3 [==============================] - 6s 2s/step - loss: 0.0000e+00 - accuracy: 1.0000\n",
      "Epoch 22/30\n",
      "3/3 [==============================] - 5s 2s/step - loss: 0.0000e+00 - accuracy: 1.0000\n",
      "Epoch 23/30\n",
      "3/3 [==============================] - 5s 2s/step - loss: 0.0000e+00 - accuracy: 1.0000\n",
      "Epoch 24/30\n",
      "3/3 [==============================] - 5s 2s/step - loss: 0.0000e+00 - accuracy: 1.0000\n",
      "Epoch 25/30\n",
      "3/3 [==============================] - 5s 2s/step - loss: 0.0000e+00 - accuracy: 1.0000\n",
      "Epoch 26/30\n",
      "3/3 [==============================] - 5s 2s/step - loss: 0.0000e+00 - accuracy: 1.0000\n",
      "Epoch 27/30\n",
      "3/3 [==============================] - 5s 2s/step - loss: 0.0000e+00 - accuracy: 1.0000\n",
      "Epoch 28/30\n",
      "3/3 [==============================] - 5s 2s/step - loss: 0.0000e+00 - accuracy: 1.0000\n",
      "Epoch 29/30\n",
      "3/3 [==============================] - 5s 1s/step - loss: 0.0000e+00 - accuracy: 1.0000\n",
      "Epoch 30/30\n",
      "3/3 [==============================] - 5s 2s/step - loss: 0.0000e+00 - accuracy: 1.0000\n"
     ]
    },
    {
     "data": {
      "text/plain": [
       "<keras.callbacks.History at 0x7fd73eab3730>"
      ]
     },
     "execution_count": 72,
     "metadata": {},
     "output_type": "execute_result"
    }
   ],
   "source": [
    "model.fit(xTrain, yTrain, epochs=30, batch_size=128)"
   ]
  },
  {
   "cell_type": "code",
   "execution_count": 73,
   "id": "5910d50a",
   "metadata": {},
   "outputs": [
    {
     "name": "stdout",
     "output_type": "stream",
     "text": [
      "Model: \"sequential_4\"\n",
      "_________________________________________________________________\n",
      " Layer (type)                Output Shape              Param #   \n",
      "=================================================================\n",
      " conv2d_4 (Conv2D)           (None, 222, 222, 32)      896       \n",
      "                                                                 \n",
      " max_pooling2d_4 (MaxPooling  (None, 221, 221, 32)     0         \n",
      " 2D)                                                             \n",
      "                                                                 \n",
      " flatten_4 (Flatten)         (None, 1562912)           0         \n",
      "                                                                 \n",
      " dense_4 (Dense)             (None, 2)                 3125826   \n",
      "                                                                 \n",
      "=================================================================\n",
      "Total params: 3,126,722\n",
      "Trainable params: 3,126,722\n",
      "Non-trainable params: 0\n",
      "_________________________________________________________________\n"
     ]
    }
   ],
   "source": [
    "model.summary()"
   ]
  },
  {
   "cell_type": "code",
   "execution_count": 74,
   "id": "f22a59ef",
   "metadata": {},
   "outputs": [
    {
     "name": "stdout",
     "output_type": "stream",
     "text": [
      "[[0.0000000e+00 1.0000000e+00]\n",
      " [0.0000000e+00 1.0000000e+00]\n",
      " [1.0000000e+00 0.0000000e+00]\n",
      " [1.0000000e+00 0.0000000e+00]\n",
      " [1.0000000e+00 0.0000000e+00]\n",
      " [0.0000000e+00 1.0000000e+00]\n",
      " [1.0000000e+00 0.0000000e+00]\n",
      " [0.0000000e+00 1.0000000e+00]\n",
      " [0.0000000e+00 1.0000000e+00]\n",
      " [1.0000000e+00 0.0000000e+00]\n",
      " [0.0000000e+00 1.0000000e+00]\n",
      " [1.0000000e+00 0.0000000e+00]\n",
      " [0.0000000e+00 1.0000000e+00]\n",
      " [1.0000000e+00 0.0000000e+00]\n",
      " [0.0000000e+00 1.0000000e+00]\n",
      " [1.0000000e+00 0.0000000e+00]\n",
      " [1.0000000e+00 0.0000000e+00]\n",
      " [0.0000000e+00 1.0000000e+00]\n",
      " [0.0000000e+00 1.0000000e+00]\n",
      " [0.0000000e+00 1.0000000e+00]\n",
      " [0.0000000e+00 1.0000000e+00]\n",
      " [0.0000000e+00 1.0000000e+00]\n",
      " [0.0000000e+00 1.0000000e+00]\n",
      " [1.0000000e+00 0.0000000e+00]\n",
      " [0.0000000e+00 1.0000000e+00]\n",
      " [0.0000000e+00 1.0000000e+00]\n",
      " [1.0000000e+00 0.0000000e+00]\n",
      " [1.0000000e+00 0.0000000e+00]\n",
      " [0.0000000e+00 1.0000000e+00]\n",
      " [1.0000000e+00 0.0000000e+00]\n",
      " [1.0000000e+00 0.0000000e+00]\n",
      " [0.0000000e+00 1.0000000e+00]\n",
      " [1.0000000e+00 0.0000000e+00]\n",
      " [0.0000000e+00 1.0000000e+00]\n",
      " [5.3307724e-01 4.6692273e-01]\n",
      " [0.0000000e+00 1.0000000e+00]\n",
      " [1.0000000e+00 0.0000000e+00]\n",
      " [1.0000000e+00 0.0000000e+00]\n",
      " [0.0000000e+00 1.0000000e+00]\n",
      " [1.0000000e+00 0.0000000e+00]\n",
      " [1.0000000e+00 0.0000000e+00]\n",
      " [0.0000000e+00 1.0000000e+00]\n",
      " [1.0000000e+00 0.0000000e+00]\n",
      " [0.0000000e+00 1.0000000e+00]\n",
      " [0.0000000e+00 1.0000000e+00]\n",
      " [1.0000000e+00 0.0000000e+00]\n",
      " [1.0000000e+00 0.0000000e+00]\n",
      " [1.0000000e+00 0.0000000e+00]\n",
      " [3.4388755e-32 1.0000000e+00]\n",
      " [1.0000000e+00 0.0000000e+00]\n",
      " [0.0000000e+00 1.0000000e+00]\n",
      " [0.0000000e+00 1.0000000e+00]\n",
      " [1.0000000e+00 0.0000000e+00]\n",
      " [1.0000000e+00 0.0000000e+00]\n",
      " [1.0000000e+00 0.0000000e+00]\n",
      " [1.0000000e+00 0.0000000e+00]\n",
      " [1.0000000e+00 0.0000000e+00]\n",
      " [0.0000000e+00 1.0000000e+00]\n",
      " [1.0000000e+00 0.0000000e+00]\n",
      " [1.0000000e+00 0.0000000e+00]\n",
      " [1.0000000e+00 0.0000000e+00]\n",
      " [1.0000000e+00 0.0000000e+00]\n",
      " [1.0000000e+00 0.0000000e+00]\n",
      " [0.0000000e+00 1.0000000e+00]\n",
      " [1.0000000e+00 0.0000000e+00]\n",
      " [0.0000000e+00 1.0000000e+00]\n",
      " [1.0000000e+00 0.0000000e+00]\n",
      " [1.0000000e+00 0.0000000e+00]\n",
      " [0.0000000e+00 1.0000000e+00]\n",
      " [1.0000000e+00 0.0000000e+00]\n",
      " [0.0000000e+00 1.0000000e+00]\n",
      " [1.0000000e+00 0.0000000e+00]\n",
      " [1.0000000e+00 0.0000000e+00]\n",
      " [0.0000000e+00 1.0000000e+00]\n",
      " [0.0000000e+00 1.0000000e+00]\n",
      " [0.0000000e+00 1.0000000e+00]\n",
      " [1.0000000e+00 0.0000000e+00]\n",
      " [0.0000000e+00 1.0000000e+00]\n",
      " [0.0000000e+00 1.0000000e+00]\n",
      " [0.0000000e+00 1.0000000e+00]\n",
      " [1.0000000e+00 0.0000000e+00]\n",
      " [1.0000000e+00 0.0000000e+00]\n",
      " [1.0000000e+00 0.0000000e+00]\n",
      " [1.0000000e+00 0.0000000e+00]\n",
      " [1.0000000e+00 0.0000000e+00]\n",
      " [0.0000000e+00 1.0000000e+00]\n",
      " [0.0000000e+00 1.0000000e+00]\n",
      " [0.0000000e+00 1.0000000e+00]\n",
      " [0.0000000e+00 1.0000000e+00]\n",
      " [1.0000000e+00 0.0000000e+00]\n",
      " [1.0000000e+00 0.0000000e+00]\n",
      " [1.0000000e+00 0.0000000e+00]\n",
      " [1.0000000e+00 0.0000000e+00]\n",
      " [1.0000000e+00 0.0000000e+00]\n",
      " [0.0000000e+00 1.0000000e+00]\n",
      " [1.0000000e+00 0.0000000e+00]\n",
      " [1.0000000e+00 0.0000000e+00]\n",
      " [1.0000000e+00 0.0000000e+00]\n",
      " [0.0000000e+00 1.0000000e+00]\n",
      " [0.0000000e+00 1.0000000e+00]\n",
      " [1.0000000e+00 0.0000000e+00]\n",
      " [1.0000000e+00 0.0000000e+00]\n",
      " [1.0000000e+00 0.0000000e+00]\n",
      " [0.0000000e+00 1.0000000e+00]\n",
      " [0.0000000e+00 1.0000000e+00]\n",
      " [1.0000000e+00 0.0000000e+00]\n",
      " [1.0000000e+00 0.0000000e+00]\n",
      " [0.0000000e+00 1.0000000e+00]\n",
      " [1.0000000e+00 0.0000000e+00]\n",
      " [1.0000000e+00 0.0000000e+00]\n",
      " [0.0000000e+00 1.0000000e+00]\n",
      " [1.0000000e+00 0.0000000e+00]\n",
      " [0.0000000e+00 1.0000000e+00]\n",
      " [0.0000000e+00 1.0000000e+00]\n",
      " [1.0000000e+00 0.0000000e+00]\n",
      " [1.0000000e+00 0.0000000e+00]\n",
      " [1.0000000e+00 0.0000000e+00]\n",
      " [0.0000000e+00 1.0000000e+00]\n",
      " [1.0000000e+00 0.0000000e+00]\n",
      " [0.0000000e+00 1.0000000e+00]\n",
      " [1.0000000e+00 0.0000000e+00]\n",
      " [1.0000000e+00 0.0000000e+00]\n",
      " [1.0000000e+00 0.0000000e+00]\n",
      " [1.0000000e+00 0.0000000e+00]\n",
      " [1.0000000e+00 0.0000000e+00]\n",
      " [0.0000000e+00 1.0000000e+00]\n",
      " [0.0000000e+00 1.0000000e+00]\n",
      " [0.0000000e+00 1.0000000e+00]\n",
      " [0.0000000e+00 1.0000000e+00]\n",
      " [1.0000000e+00 0.0000000e+00]\n",
      " [0.0000000e+00 1.0000000e+00]\n",
      " [1.0000000e+00 0.0000000e+00]\n",
      " [1.0000000e+00 0.0000000e+00]\n",
      " [0.0000000e+00 1.0000000e+00]\n",
      " [1.0000000e+00 0.0000000e+00]]\n",
      "[[0. 1.]\n",
      " [0. 1.]\n",
      " [1. 0.]\n",
      " [1. 0.]\n",
      " [1. 0.]\n",
      " [0. 1.]\n",
      " [0. 1.]\n",
      " [1. 0.]\n",
      " [0. 1.]\n",
      " [1. 0.]\n",
      " [0. 1.]\n",
      " [1. 0.]\n",
      " [0. 1.]\n",
      " [1. 0.]\n",
      " [0. 1.]\n",
      " [1. 0.]\n",
      " [1. 0.]\n",
      " [0. 1.]\n",
      " [0. 1.]\n",
      " [0. 1.]\n",
      " [0. 1.]\n",
      " [0. 1.]\n",
      " [0. 1.]\n",
      " [1. 0.]\n",
      " [0. 1.]\n",
      " [0. 1.]\n",
      " [1. 0.]\n",
      " [1. 0.]\n",
      " [0. 1.]\n",
      " [1. 0.]\n",
      " [1. 0.]\n",
      " [0. 1.]\n",
      " [1. 0.]\n",
      " [0. 1.]\n",
      " [0. 1.]\n",
      " [0. 1.]\n",
      " [1. 0.]\n",
      " [1. 0.]\n",
      " [0. 1.]\n",
      " [1. 0.]\n",
      " [1. 0.]\n",
      " [0. 1.]\n",
      " [1. 0.]\n",
      " [0. 1.]\n",
      " [0. 1.]\n",
      " [1. 0.]\n",
      " [1. 0.]\n",
      " [1. 0.]\n",
      " [1. 0.]\n",
      " [1. 0.]\n",
      " [0. 1.]\n",
      " [0. 1.]\n",
      " [1. 0.]\n",
      " [1. 0.]\n",
      " [1. 0.]\n",
      " [1. 0.]\n",
      " [1. 0.]\n",
      " [0. 1.]\n",
      " [1. 0.]\n",
      " [1. 0.]\n",
      " [1. 0.]\n",
      " [1. 0.]\n",
      " [1. 0.]\n",
      " [0. 1.]\n",
      " [1. 0.]\n",
      " [0. 1.]\n",
      " [1. 0.]\n",
      " [1. 0.]\n",
      " [0. 1.]\n",
      " [1. 0.]\n",
      " [0. 1.]\n",
      " [1. 0.]\n",
      " [1. 0.]\n",
      " [0. 1.]\n",
      " [0. 1.]\n",
      " [0. 1.]\n",
      " [1. 0.]\n",
      " [0. 1.]\n",
      " [0. 1.]\n",
      " [0. 1.]\n",
      " [1. 0.]\n",
      " [1. 0.]\n",
      " [0. 1.]\n",
      " [1. 0.]\n",
      " [1. 0.]\n",
      " [1. 0.]\n",
      " [0. 1.]\n",
      " [0. 1.]\n",
      " [0. 1.]\n",
      " [1. 0.]\n",
      " [1. 0.]\n",
      " [1. 0.]\n",
      " [1. 0.]\n",
      " [1. 0.]\n",
      " [0. 1.]\n",
      " [1. 0.]\n",
      " [1. 0.]\n",
      " [1. 0.]\n",
      " [0. 1.]\n",
      " [0. 1.]\n",
      " [1. 0.]\n",
      " [1. 0.]\n",
      " [1. 0.]\n",
      " [0. 1.]\n",
      " [0. 1.]\n",
      " [1. 0.]\n",
      " [1. 0.]\n",
      " [0. 1.]\n",
      " [1. 0.]\n",
      " [1. 0.]\n",
      " [0. 1.]\n",
      " [1. 0.]\n",
      " [0. 1.]\n",
      " [0. 1.]\n",
      " [0. 1.]\n",
      " [1. 0.]\n",
      " [1. 0.]\n",
      " [0. 1.]\n",
      " [1. 0.]\n",
      " [0. 1.]\n",
      " [1. 0.]\n",
      " [1. 0.]\n",
      " [1. 0.]\n",
      " [1. 0.]\n",
      " [1. 0.]\n",
      " [0. 1.]\n",
      " [0. 1.]\n",
      " [0. 1.]\n",
      " [1. 0.]\n",
      " [1. 0.]\n",
      " [0. 1.]\n",
      " [1. 0.]\n",
      " [1. 0.]\n",
      " [0. 1.]\n",
      " [1. 0.]]\n",
      "[[72  4]\n",
      " [ 4 55]]\n",
      "0.9322033898305084\n",
      "0.9407407407407408\n"
     ]
    }
   ],
   "source": [
    "# Testing\n",
    "yPredictedTest = model.predict(xTest)\n",
    "print(yPredictedTest)\n",
    "print(yTest)\n",
    "print(confusion_matrix(yTest.argmax(axis=1), yPredictedTest.argmax(axis=1)))\n",
    "print(f1_score(yTest.argmax(axis=1), yPredictedTest.argmax(axis=1)))\n",
    "print(accuracy_score(yTest.argmax(axis=1), yPredictedTest.argmax(axis=1)))"
   ]
  },
  {
   "cell_type": "code",
   "execution_count": null,
   "id": "d9f314f0",
   "metadata": {},
   "outputs": [],
   "source": [
    "# Saving model"
   ]
  }
 ],
 "metadata": {
  "kernelspec": {
   "display_name": "Python 3",
   "language": "python",
   "name": "python3"
  },
  "language_info": {
   "codemirror_mode": {
    "name": "ipython",
    "version": 3
   },
   "file_extension": ".py",
   "mimetype": "text/x-python",
   "name": "python",
   "nbconvert_exporter": "python",
   "pygments_lexer": "ipython3",
   "version": "3.8.8"
  }
 },
 "nbformat": 4,
 "nbformat_minor": 5
}
